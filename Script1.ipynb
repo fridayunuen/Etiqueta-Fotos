{
 "cells": [
  {
   "cell_type": "code",
   "execution_count": 1,
   "metadata": {},
   "outputs": [
    {
     "name": "stdout",
     "output_type": "stream",
     "text": [
      "Hello There\n"
     ]
    }
   ],
   "source": [
    "print(\"Hello There\")"
   ]
  },
  {
   "cell_type": "markdown",
   "metadata": {},
   "source": [
    "# Requerimientos"
   ]
  },
  {
   "cell_type": "code",
   "execution_count": 2,
   "metadata": {},
   "outputs": [],
   "source": [
    "import os\n",
    "from tkinter import Tk, filedialog\n",
    "from numpy import repeat\n",
    "import cv2\n",
    "# from matplotlib.pyplot import get"
   ]
  },
  {
   "cell_type": "markdown",
   "metadata": {},
   "source": [
    " * Validar que la carpeta cntenga las imagenes. \n",
    " + Validar que el nombre de la carpeta no contenga \"_\"\n",
    " + validar tmbn que no se seleccionen otras teclas"
   ]
  },
  {
   "cell_type": "markdown",
   "metadata": {},
   "source": [
    "Abriendo carpeta que contiene las imagenes desde ventana Windows"
   ]
  },
  {
   "cell_type": "code",
   "execution_count": 3,
   "metadata": {},
   "outputs": [],
   "source": [
    "root = Tk() # pointing root to Tk() to use it as Tk() in program.\n",
    "root.withdraw() # Hides small tkinter window.\n",
    "root.attributes('-topmost', True) # Opened windows will be active. above all windows despite of selection.\n",
    "carpeta = filedialog.askdirectory() # Returns opened path as str\n",
    "os.chdir(carpeta) # Changes directory to opened path.\n"
   ]
  },
  {
   "cell_type": "markdown",
   "metadata": {},
   "source": [
    "Seleccionando solo las imagenes con medida 515 para  mostrarse"
   ]
  },
  {
   "cell_type": "code",
   "execution_count": 4,
   "metadata": {},
   "outputs": [],
   "source": [
    "files = os.listdir()\n",
    "# get path of all files\n",
    "paths = [os.path.join(carpeta, file) for file in files]\n",
    "\n",
    "#Selecting all paths with 515x515H in them\n",
    "principales = [path for path in paths if \"515Wx515\" in path]"
   ]
  },
  {
   "cell_type": "markdown",
   "metadata": {},
   "source": [
    "# Open cv2"
   ]
  },
  {
   "cell_type": "code",
   "execution_count": 5,
   "metadata": {},
   "outputs": [],
   "source": [
    "#Functions --------------------------------------------------------------------------------------------------\n",
    "# this function is used to create a subset from a string\n",
    "def get_subset(string, start, end):\n",
    "    return string[start:end]    \n",
    "\n",
    "# this function detects the position of a  character in a string\n",
    "def detect_char(string, char):\n",
    "    return [i for i, letter in enumerate(string) if letter == char]    "
   ]
  },
  {
   "cell_type": "markdown",
   "metadata": {},
   "source": [
    "Mostrando las imagenes y utilizando las teclas (w,a,s,d) para etiquetarlas\n",
    "+ Se renombran con el formato \"-new\" para evitar repeticiones con los archivos ya existentes\n",
    "+ Si se denominan dos imagenes como \"frontales\" por ejemplo, la primera conserva su nombre y la segunda cambia su no_vista \n",
    "+ Solo se aceptan dos imagenes del mismo tipo, (p ejem 2 izquierdas)\n"
   ]
  },
  {
   "cell_type": "code",
   "execution_count": 6,
   "metadata": {},
   "outputs": [],
   "source": [
    "for i in range(len(principales)):\n",
    "    imagen = principales[i]\n",
    "\n",
    "    img = cv2.imread(imagen)\n",
    "\n",
    "    cv2.imshow('sample image',img)\n",
    "\n",
    "    #detecting which key is pressed \n",
    "    tecla=cv2.waitKey(50000) # waits until a key is pressed\n",
    "                \n",
    "    cv2.destroyAllWindows() # destroys the window showing image\n",
    "\n",
    "    # Conditional statement to detect which key is pressed\n",
    "    if tecla == ord('a'):\n",
    "        new_label=\"_Izquierda-new_\"\n",
    "    elif tecla == ord('d'):\n",
    "        new_label=\"_Derecha-new_\" \n",
    "    elif tecla == ord('w'):\n",
    "        new_label=\"_Frontal-new_\"\n",
    "    elif tecla == ord('s'):\n",
    "        new_label=\"_Trasera-new_\"\n",
    "\n",
    "\n",
    "    tipo=get_subset( imagen, detect_char(imagen, '_')[0], detect_char(imagen, '_')[1]+1) #_Derecha_\n",
    "\n",
    "    sku =get_subset( imagen, detect_char(imagen, '_')[1]+1, detect_char(imagen, '_')[2]) #1700490094\n",
    "    \n",
    "    no_vista=get_subset(imagen, detect_char(imagen, '_')[2], detect_char(imagen, '_')[2]+3) #_1.\n",
    "\n",
    "    # Selecting all paths with sku in them\n",
    "    item = [path for path in paths if sku in path] \n",
    "\n",
    "    vista=[item for item in item if tipo in item] \n",
    "\n",
    "    item_vista=[vista for vista in vista if no_vista in vista] # selecting all paths with sku, tipo and no_vista in them\n",
    "\n",
    "    # if imagen2.replace(tipo, new_label) does not exist, rename imagen2 to imagen2.replace(tipo, new_label)\n",
    "\n",
    "    for j in range(len(item_vista)) :\n",
    "        imagen2 = item_vista[j]\n",
    "        if not os.path.exists(imagen2.replace(tipo, new_label)):\n",
    "            os.rename(imagen2, imagen2.replace(tipo, new_label))\n",
    "        # Here we are checking if the kinds file has variants.\n",
    "        else:\n",
    "            if not os.path.exists(imagen2.replace(no_vista, \"_1.\")):\n",
    "                os.rename(imagen2, imagen2.replace(no_vista, \"_1.\"))\n",
    "            else:\n",
    "                if not os.path.exists(imagen2.replace(no_vista, \"_2.\")):\n",
    "                    os.rename(imagen2, imagen2.replace(no_vista, \"_2.\")) \n",
    "                else:\n",
    "                    print(\"Ya existe\")"
   ]
  },
  {
   "cell_type": "code",
   "execution_count": null,
   "metadata": {},
   "outputs": [],
   "source": []
  }
 ],
 "metadata": {
  "kernelspec": {
   "display_name": "Python 3.9.12 ('base')",
   "language": "python",
   "name": "python3"
  },
  "language_info": {
   "codemirror_mode": {
    "name": "ipython",
    "version": 3
   },
   "file_extension": ".py",
   "mimetype": "text/x-python",
   "name": "python",
   "nbconvert_exporter": "python",
   "pygments_lexer": "ipython3",
   "version": "3.9.12"
  },
  "orig_nbformat": 4,
  "vscode": {
   "interpreter": {
    "hash": "54d8efc0accedf8a71318180958b2a2c3ace073b5a0267b0b56f49dfe74d51c0"
   }
  }
 },
 "nbformat": 4,
 "nbformat_minor": 2
}
