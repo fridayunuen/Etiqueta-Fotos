{
 "cells": [
  {
   "cell_type": "markdown",
   "metadata": {},
   "source": [
    "# Requerimientos"
   ]
  },
  {
   "cell_type": "code",
   "execution_count": 1,
   "metadata": {},
   "outputs": [
    {
     "name": "stdout",
     "output_type": "stream",
     "text": [
      "Hello There\n"
     ]
    }
   ],
   "source": [
    "print(\"Hello There\")"
   ]
  },
  {
   "cell_type": "code",
   "execution_count": 1,
   "metadata": {},
   "outputs": [],
   "source": [
    "import os\n",
    "from tkinter import Tk, filedialog\n",
    "from numpy import repeat\n",
    "import cv2\n",
    "from win32con import (SW_SHOW, SW_RESTORE)\n",
    "import win32gui\n",
    "import win32ui"
   ]
  },
  {
   "cell_type": "markdown",
   "metadata": {},
   "source": [
    "Si hay problemas al ejecutarse desde terminal, utilizar el comando:\n",
    "pip install pywin32 --upgrade"
   ]
  },
  {
   "cell_type": "code",
   "execution_count": 2,
   "metadata": {},
   "outputs": [],
   "source": [
    "inicio=win32ui.MessageBox(\"Para reetiquetar las imagenes de acuerdo a la posición del item, utiliza las teclas: \\n\\n W: Frontal \\n S: Trasera \\n A: Izquierda \\n D: Derecha\", \"Instrucciones Generales\",1)\n",
    "if inicio==2:\n",
    "    exit()\n",
    "\n",
    "consideraciones = win32ui.MessageBox(\"La carpeta debe contener archivos JPG ya etiquetados\\n\\nEl nombre de la carpeta no debe contener ( _ )\\n\\nUna ventana emergente mostrará la vista elegida, si desea cambiarla presione la opción Cancelar y escoja nuevamente entre W,A,S o D\\n\\nUna vez inciado el programa podrá salir hasta que se hayan reetiquetado todas las imagenes de la carpeta\", \"Consideraciones\",1)\n",
    "if consideraciones==2:\n",
    "    exit()"
   ]
  },
  {
   "cell_type": "markdown",
   "metadata": {},
   "source": [
    "La carpeta que se seleccionará debe de incluir las imagenes que se reetiquetarán ya que es muy probable que el modelo se haya equivocado en estos casos. Una consideración importante es que el nombre de la carpeta no debe incluir \"_\" pues el programa toma en consideración todo el path"
   ]
  },
  {
   "cell_type": "markdown",
   "metadata": {},
   "source": [
    "Abriendo carpeta que contiene las imagenes desde ventana Windows"
   ]
  },
  {
   "cell_type": "code",
   "execution_count": 3,
   "metadata": {},
   "outputs": [],
   "source": [
    "root = Tk() # pointing root to Tk() to use it as Tk() in program.\n",
    "root.withdraw() # Hides small tkinter window.\n",
    "root.attributes('-topmost', True) # Opened windows will be active. above all windows despite of selection.\n",
    "carpeta = filedialog.askdirectory() # Returns opened path as str\n"
   ]
  },
  {
   "cell_type": "code",
   "execution_count": 4,
   "metadata": {},
   "outputs": [],
   "source": [
    "# get base name of carpeta\n",
    "base_name_carpeta = os.path.basename(carpeta)\n",
    "\n",
    "#base_name_carpeta contains \"_\"\n",
    "if \"_\" in base_name_carpeta:\n",
    "    d=win32ui.MessageBox(\"El nombre de la carpeta contiene ( _ ) desea cambiarlo? \", \"Error\", 1) #1 Aceptar 2 Cancelar\n",
    "    if d==1:\n",
    "        #rename carpeta path\n",
    "        os.rename(carpeta, carpeta.replace(\"_\", \"\"))\n",
    "        carpeta=carpeta.replace(\"_\", \"\")\n",
    "        #base_name_carpeta = base_name_carpeta.replace(\"_\", \"\")\n",
    "    elif d==2:\n",
    "        exit()\n",
    "    \n"
   ]
  },
  {
   "cell_type": "code",
   "execution_count": 5,
   "metadata": {},
   "outputs": [],
   "source": [
    "os.chdir(carpeta) # Changes directory to opened path.\n",
    "files = os.listdir()\n",
    "\n",
    "# if the folder is empty, the program will exit\n",
    "if len(files) == 0:\n",
    "    win32ui.MessageBox(\"La carpeta esta vacia\", \"Error\",0)\n",
    "    exit()\n",
    "\n",
    "if not all(file.endswith('.jpg') for file in files):\n",
    "    win32ui.MessageBox(\"La carpeta solo debe de contener archivos JPG\", \"Error\",0)\n",
    "    exit()    \n",
    "    "
   ]
  },
  {
   "cell_type": "markdown",
   "metadata": {},
   "source": [
    "Seleccionando solo las imagenes con medida 515 para mostrarse en pantalla"
   ]
  },
  {
   "cell_type": "code",
   "execution_count": 6,
   "metadata": {},
   "outputs": [],
   "source": [
    "# get path of all files\n",
    "paths = [os.path.join(carpeta, file) for file in files]\n",
    "\n",
    "#Selecting all paths with 515x515H in them\n",
    "principales = [path for path in paths if \"515Wx515\" in path]"
   ]
  },
  {
   "cell_type": "markdown",
   "metadata": {},
   "source": [
    "# Open cv2"
   ]
  },
  {
   "cell_type": "markdown",
   "metadata": {},
   "source": [
    "Para que el uso del programa sea mas fluido en el archivo Ejecutable.py se agregan las dos ultimas funciones las cuales colocan sobre el resto de ventanas la imagen a reetiquetar y al mismo tiempo se activa dicha ventana."
   ]
  },
  {
   "cell_type": "code",
   "execution_count": 7,
   "metadata": {},
   "outputs": [],
   "source": [
    "#Functions --------------------------------------------------------------------------------------------------\n",
    "# this function is used to create a subset from a string\n",
    "def get_subset(string, start, end):\n",
    "    return string[start:end]    \n",
    "\n",
    "# this function detects the position of a  character in a string\n",
    "def detect_char(string, char):\n",
    "    return [i for i, letter in enumerate(string) if letter == char]  \n",
    "\n",
    "# With these functions we can activate the window and bring it to the front.\n",
    "def get_windows_placement(window_id):\n",
    "    return win32gui.GetWindowPlacement(window_id)[1]\n",
    "\n",
    "def set_active_window(window_id):\n",
    "    if get_windows_placement(window_id) == 2:\n",
    "        win32gui.ShowWindow(window_id, SW_RESTORE)\n",
    "    else:\n",
    "        win32gui.ShowWindow(window_id, SW_SHOW)\n",
    "    win32gui.SetForegroundWindow(window_id)\n",
    "    win32gui.SetActiveWindow(window_id)\n"
   ]
  },
  {
   "cell_type": "markdown",
   "metadata": {},
   "source": [
    "* Mostrando las imagenes y utilizando las teclas (w,a,s,d) para etiquetarlas\n",
    "* Se muestra la imagen y posteriormente la etiqueta que se le asignó mediante el teclado para que el usuario corrobore su selección\n",
    "* Incluye un bucle que se rompe hasta que se selecciona la opción aceptar (decision final)\n",
    "* Se renombran con el formato \"-new\" para evitar repeticiones con los archivos ya existentes"
   ]
  },
  {
   "cell_type": "code",
   "execution_count": 8,
   "metadata": {},
   "outputs": [],
   "source": [
    "def seleccion(imagen): \n",
    "    img = cv2.imread(imagen)\n",
    "    cv2.imshow('Imagen',img) #\n",
    "    cv2.setWindowProperty('Imagen', cv2.WND_PROP_TOPMOST, 1)\n",
    "    window_id = win32gui.GetActiveWindow()#\n",
    "    set_active_window(window_id)#\n",
    "    #detecting which key is pressed \n",
    "    tecla=cv2.waitKey(0) # waits until a key is pressed\n",
    "    \n",
    "    # Pressing only keys predefined\n",
    "    while tecla != ord('a') and tecla != ord('d') and tecla != ord('w') and tecla != ord('s'):\n",
    "        win32ui.MessageBox(\"Recuerda que para etiquetar las fotos debes de presionar las teclas \\t W A S D\", \"Cuidado\", 0)\n",
    "        img = cv2.imread(imagen)\n",
    "        cv2.imshow('Imagen',img) #\n",
    "        cv2.setWindowProperty('Imagen', cv2.WND_PROP_TOPMOST, 1)\n",
    "        window_id = win32gui.GetActiveWindow()#\n",
    "        set_active_window(window_id)#\n",
    "        tecla=cv2.waitKey(0) \n",
    "        cv2.destroyAllWindows() \n",
    "\n",
    "    # Conditional statement to detect which key is pressed\n",
    "    if tecla == ord('a'):\n",
    "        new_label=\"_Izquierda-new_\"\n",
    "    elif tecla == ord('d'):\n",
    "        new_label=\"_Derecha-new_\" \n",
    "    elif tecla == ord('w'):\n",
    "        new_label=\"_Frontal-new_\"\n",
    "    elif tecla == ord('s'):\n",
    "        new_label=\"_Trasera-new_\"\n",
    "    \n",
    "    return new_label\n",
    "      "
   ]
  },
  {
   "cell_type": "markdown",
   "metadata": {},
   "source": [
    "+ Si se denominan dos imagenes como \"frontales\" por ejemplo, la primera conserva su nombre y la segunda cambia su no_vista \n",
    "+ Solo se aceptan dos imagenes del mismo tipo, (p ejem 2 izquierdas)\n"
   ]
  },
  {
   "cell_type": "code",
   "execution_count": 9,
   "metadata": {},
   "outputs": [],
   "source": [
    "for i in range(len(principales)):\n",
    "    imagen = principales[i]\n",
    "    \n",
    "    new_label=seleccion(imagen)\n",
    "    \n",
    "    #Now, if the user wants to change his/her selection, he/ she can select the option \"Cancel\"\n",
    "    continuar = win32ui.MessageBox(new_label, \"Seleccion\", 1) #?\n",
    "\n",
    "    while continuar == 2:\n",
    "        new_label=seleccion(imagen)\n",
    "        continuar = win32ui.MessageBox(new_label, \"Seleccion\", 1)\n",
    "\n",
    "    cv2.destroyAllWindows() # destroys the window showing image  \n",
    "      \n",
    "    # Elements of the path \n",
    "    tipo=get_subset( imagen, detect_char(imagen, '_')[0], detect_char(imagen, '_')[1]+1) #_Derecha_\n",
    "    sku =get_subset( imagen, detect_char(imagen, '_')[1]+1, detect_char(imagen, '_')[2]) #1700490094\n",
    "    no_vista=get_subset(imagen, detect_char(imagen, '_')[2], detect_char(imagen, '_')[2]+3) #_1.\n",
    "\n",
    "    item = [path for path in paths if sku in path] \n",
    "    vista=[item for item in item if tipo in item] \n",
    "\n",
    "    # Selecting all paths with sku in them and with determinated vista\n",
    "    item_vista=[vista for vista in vista if no_vista in vista] \n",
    "    \n",
    "    # if imagen2.replace(tipo, new_label) does not exist, rename imagen2 to imagen2.replace(tipo, new_label)\n",
    "    for j in range(len(item_vista)) :\n",
    "        imagen2 = item_vista[j]\n",
    "        if not os.path.exists(imagen2.replace(tipo, new_label)):\n",
    "            os.rename(imagen2, imagen2.replace(tipo, new_label))\n",
    "        # Here we are checking if the kinds file has variants.\n",
    "        else:\n",
    "            if not os.path.exists(imagen2.replace(no_vista, \"_1.\")):\n",
    "                os.rename(imagen2, imagen2.replace(no_vista, \"_1.\"))\n",
    "            else:\n",
    "                if not os.path.exists(imagen2.replace(no_vista, \"_2.\")):\n",
    "                    os.rename(imagen2, imagen2.replace(no_vista, \"_2.\")) \n",
    "                else:\n",
    "                    print(\"Ya existe\")"
   ]
  },
  {
   "cell_type": "markdown",
   "metadata": {},
   "source": [
    "Se revisa que todos los nombres se actualizaron, si no es así, es porque se asigaron mas formatos de los que son permitidos (por ejemplo se seleccionaron 3 imagenes como frontales, sin embargo solo se aceptan 2). Si es el caso, se mueve hacia una direccion que vivirá al mismo nivel que la carpeta padre."
   ]
  },
  {
   "cell_type": "code",
   "execution_count": 10,
   "metadata": {},
   "outputs": [],
   "source": [
    "files=os.listdir()\n",
    "for i in range(len(files)):\n",
    "    if '-' not in files[i]:\n",
    "        base_name=carpeta[:-len(os.path.basename(carpeta))]\n",
    "        if not os.path.exists(base_name+\"Repeticiones\"):\n",
    "            os.mkdir(base_name+\"Repeticiones\")\n",
    "        os.rename(files[i], base_name+\"Repeticiones/\"+files[i])\n",
    "files= os.listdir()\n",
    "for i in range(len(files)):\n",
    "    os.rename(files[i],files[i].replace('-new', ''))\n"
   ]
  },
  {
   "cell_type": "markdown",
   "metadata": {},
   "source": [
    "Finalmente se eliminan todas las varibales que fueron creadas, se libera memoria y evita complicaciones en posteriores usos "
   ]
  },
  {
   "cell_type": "code",
   "execution_count": 11,
   "metadata": {},
   "outputs": [],
   "source": [
    "del  carpeta, files, paths, principales, imagen, new_label"
   ]
  }
 ],
 "metadata": {
  "kernelspec": {
   "display_name": "Python 3.9.12 ('base')",
   "language": "python",
   "name": "python3"
  },
  "language_info": {
   "codemirror_mode": {
    "name": "ipython",
    "version": 3
   },
   "file_extension": ".py",
   "mimetype": "text/x-python",
   "name": "python",
   "nbconvert_exporter": "python",
   "pygments_lexer": "ipython3",
   "version": "3.9.12"
  },
  "orig_nbformat": 4,
  "vscode": {
   "interpreter": {
    "hash": "54d8efc0accedf8a71318180958b2a2c3ace073b5a0267b0b56f49dfe74d51c0"
   }
  }
 },
 "nbformat": 4,
 "nbformat_minor": 2
}
