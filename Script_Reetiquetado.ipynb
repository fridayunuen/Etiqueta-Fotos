{
 "cells": [
  {
   "cell_type": "markdown",
   "metadata": {},
   "source": [
    "# Requerimientos"
   ]
  },
  {
   "cell_type": "code",
   "execution_count": null,
   "metadata": {},
   "outputs": [],
   "source": [
    "import os\n",
    "from tkinter import Tk, filedialog\n",
    "from numpy import repeat\n",
    "import cv2\n",
    "from win32con import (SW_SHOW, SW_RESTORE)\n",
    "import win32gui\n",
    "import win32ui\n",
    "import shutil\n",
    "import zipfile\n",
    "import datetime"
   ]
  },
  {
   "cell_type": "markdown",
   "metadata": {},
   "source": [
    "Si hay problemas al ejecutarse desde terminal, utilizar el comando:\n",
    "pip install pywin32 --upgrade"
   ]
  },
  {
   "cell_type": "markdown",
   "metadata": {},
   "source": [
    "La carpeta que se seleccionará debe de incluir las imagenes que se reetiquetarán ya que es muy probable que el modelo se haya equivocado en estos casos. Una consideración importante es que el nombre de la carpeta no debe incluir \"_\" pues el programa toma en consideración todo el path"
   ]
  },
  {
   "cell_type": "markdown",
   "metadata": {},
   "source": [
    "Abriendo carpeta que contiene las imagenes desde ventana Windows"
   ]
  },
  {
   "cell_type": "code",
   "execution_count": null,
   "metadata": {},
   "outputs": [],
   "source": [
    "root = Tk() # pointing root to Tk() to use it as Tk() in program.\n",
    "root.withdraw() # Hides small tkinter window.\n",
    "root.attributes('-topmost', True) # Opened windows will be active. above all windows despite of selection.\n",
    "carpeta = filedialog.askdirectory() # Returns opened path as str\n"
   ]
  },
  {
   "cell_type": "code",
   "execution_count": null,
   "metadata": {},
   "outputs": [],
   "source": [
    "# get base name of carpeta\n",
    "base_name_carpeta = os.path.basename(carpeta)\n",
    "\n",
    "#base_name_carpeta contains \"_\"\n",
    "if \"_\" in base_name_carpeta:\n",
    "    d=win32ui.MessageBox(\"El nombre de la carpeta contiene ( _ ) desea cambiarlo? \", \"Error\", 1) #1 Aceptar 2 Cancelar\n",
    "    if d==1:\n",
    "        #rename carpeta path\n",
    "        os.rename(carpeta, carpeta.replace(\"_\", \"\"))\n",
    "        carpeta=carpeta.replace(\"_\", \"\")\n",
    "        #base_name_carpeta = base_name_carpeta.replace(\"_\", \"\")\n",
    "    elif d==2:\n",
    "        exit()\n",
    "    \n"
   ]
  },
  {
   "cell_type": "code",
   "execution_count": null,
   "metadata": {},
   "outputs": [],
   "source": [
    "os.chdir(carpeta) # Changes directory to opened path.\n",
    "files = os.listdir()\n",
    "\n",
    "# if the folder is empty, the program will exit\n",
    "if len(files) == 0:\n",
    "    win32ui.MessageBox(\"La carpeta esta vacia\", \"Error\",0)\n",
    "    exit()\n",
    "\n",
    "if not all(file.endswith('.jpg') for file in files):\n",
    "    win32ui.MessageBox(\"La carpeta solo debe de contener archivos JPG\", \"Error\",0)\n",
    "    exit()    \n",
    "    "
   ]
  },
  {
   "cell_type": "code",
   "execution_count": null,
   "metadata": {},
   "outputs": [],
   "source": [
    "# get path of all files\n",
    "paths = [os.path.join(carpeta, file) for file in files]"
   ]
  },
  {
   "cell_type": "markdown",
   "metadata": {},
   "source": [
    "Aquí vamos a filtrar el hecho de que en la carpeta seleccionada existan errores en la etiqueta, si es así, el programa continua, caso contrario termina."
   ]
  },
  {
   "cell_type": "code",
   "execution_count": null,
   "metadata": {},
   "outputs": [],
   "source": [
    "# this function ditects a string inside a string\n",
    "def detect_string(string, substring):\n",
    "    return substring in string\n",
    "\n",
    "error_paths = [path for path in paths if detect_string(path, \"Error\")]    \n",
    "\n",
    "# if error_paths is not empty, the program will exit\n",
    "if len(error_paths) == 0:\n",
    "    win32ui.MessageBox(\"La carpeta no contiene archivos con error :)\", \"Mensaje\",0)\n",
    "    exit()"
   ]
  },
  {
   "cell_type": "code",
   "execution_count": null,
   "metadata": {},
   "outputs": [],
   "source": [
    "inicio=win32ui.MessageBox(\"Para reetiquetar las imagenes de acuerdo a la posición del item, utiliza las teclas: \\n\\n W: Frontal \\n S: Trasera \\n A: Izquierda \\n D: Derecha\", \"Instrucciones Generales\",1)\n",
    "if inicio==2:\n",
    "    exit()\n",
    "\n",
    "consideraciones = win32ui.MessageBox(\"Asegurate de tener acceso a la carpeta compartida en donde se guardarán los cambios realizados\\n\\nLa carpeta debe contener archivos JPG ya etiquetados\\n\\nEl nombre de la carpeta no debe contener ( _ )\\n\\nUna ventana emergente mostrará la vista elegida, si desea cambiarla presione la opción Cancelar y escoja nuevamente entre W,A,S o D\\n\\nUna vez inciado el programa podrá salir hasta que se hayan reetiquetado todas las imagenes de la carpeta\", \"Consideraciones\",1)\n",
    "if consideraciones==2:\n",
    "    exit()"
   ]
  },
  {
   "cell_type": "code",
   "execution_count": null,
   "metadata": {},
   "outputs": [],
   "source": [
    "#Functions --------------------------------------------------------------------------------------------------\n",
    "# this function is used to create a subset from a string\n",
    "def get_subset(string, start, end):\n",
    "    return string[start:end]    \n",
    "\n",
    "# this function detects the position of a  character in a string\n",
    "def detect_char(string, char):\n",
    "    return [i for i, letter in enumerate(string) if letter == char]  \n",
    "\n",
    "# With these functions we can activate the window and bring it to the front.\n",
    "def get_windows_placement(window_id):\n",
    "    return win32gui.GetWindowPlacement(window_id)[1]\n",
    "\n",
    "def set_active_window(window_id):\n",
    "    if get_windows_placement(window_id) == 2:\n",
    "        win32gui.ShowWindow(window_id, SW_RESTORE)\n",
    "    else:\n",
    "        win32gui.ShowWindow(window_id, SW_SHOW)\n",
    "    win32gui.SetForegroundWindow(window_id)\n",
    "    win32gui.SetActiveWindow(window_id)\n"
   ]
  },
  {
   "cell_type": "code",
   "execution_count": null,
   "metadata": {},
   "outputs": [],
   "source": [
    "# now we use the previous function to get all '_'\n",
    "error_paths_positions = [detect_char(path, '_') for path in error_paths]\n",
    "#select the first position of each path\n",
    "error_paths_positions_1 = [path[1] for path in error_paths_positions]\n",
    "error_paths_positions_1 = [int(path) + 1 for path in error_paths_positions_1]\n",
    "\n",
    "error_paths_positions_2 = [path[2] for path in error_paths_positions]\n",
    "\n",
    "# get the subset of the paths\n",
    "error_paths_subset = [get_subset(path, error_paths_positions_1[i], error_paths_positions_2[i]) for i, path in enumerate(error_paths)]\n",
    "\n",
    "# unique values of error_paths_subset\n",
    "skue = list(set(error_paths_subset))\n"
   ]
  },
  {
   "cell_type": "markdown",
   "metadata": {},
   "source": [
    "Se substrae el SKU con etiqueta erronea, a partir de ahi se subrtaen toooodos los productos con ese SKU\n"
   ]
  },
  {
   "cell_type": "code",
   "execution_count": null,
   "metadata": {},
   "outputs": [],
   "source": [
    "productos_error = []\n",
    "for path in paths:\n",
    "    for j in range(len(skue)):\n",
    "        if detect_string(path, skue[j]):\n",
    "            # save the path in the new variable\n",
    "            productos_error.append(path)\n",
    "            \n",
    "carpeta = os.getcwd()\n",
    "\n",
    "# if not exists the folder 'error', the program will create it\n",
    "if not os.path.exists(carpeta + '\\\\Errores'):\n",
    "    os.mkdir(\"Errores\")\n",
    "\n",
    "for path in productos_error:\n",
    "    name = os.path.basename(path)\n",
    "    os.rename(path, carpeta+\"/Errores/\" + name) \n"
   ]
  },
  {
   "cell_type": "code",
   "execution_count": null,
   "metadata": {},
   "outputs": [],
   "source": [
    "# files in the folder 'error'\n",
    "error_files = os.listdir(carpeta + '\\\\Errores')"
   ]
  },
  {
   "cell_type": "markdown",
   "metadata": {},
   "source": [
    "Seleccionando solo las imagenes con medida 515 para mostrarse en pantalla"
   ]
  },
  {
   "cell_type": "code",
   "execution_count": null,
   "metadata": {},
   "outputs": [],
   "source": [
    "# change directory to 'error'\n",
    "os.chdir(carpeta + '\\\\Errores')"
   ]
  },
  {
   "cell_type": "code",
   "execution_count": null,
   "metadata": {},
   "outputs": [],
   "source": [
    "# get all paths in directory\n",
    "files = os.listdir()\n",
    "# get all paths of files\n",
    "paths = [os.path.join(carpeta + '\\\\Errores', file) for file in files]"
   ]
  },
  {
   "cell_type": "markdown",
   "metadata": {},
   "source": [
    "A todo lo que no contenga _Error_ en su etiqueta se le colocará -new"
   ]
  },
  {
   "cell_type": "code",
   "execution_count": null,
   "metadata": {},
   "outputs": [],
   "source": [
    "error_paths = [path for path in paths if detect_string(path, \"_Error_\")]  \n",
    "\n",
    "no_error_paths = [path for path in paths if not detect_string(path, \"_Error_\")]  \n",
    "\n",
    "for i in range(len(no_error_paths)):\n",
    "    imagen = no_error_paths[i]\n",
    "    tipo = (get_subset(imagen, detect_char(imagen, '_')[0]+1, detect_char(imagen, '_')[1]+1) )\n",
    "    \n",
    "    tipo2 = tipo.replace(\"_\", \"-new_\")\n",
    "    os.rename(imagen, imagen.replace(tipo, tipo2))\n",
    "        "
   ]
  },
  {
   "cell_type": "code",
   "execution_count": null,
   "metadata": {},
   "outputs": [],
   "source": [
    "principales = [error_paths for error_paths in error_paths if \"515Wx515\" in error_paths]"
   ]
  },
  {
   "cell_type": "markdown",
   "metadata": {},
   "source": [
    "# Open cv2"
   ]
  },
  {
   "cell_type": "markdown",
   "metadata": {},
   "source": [
    "Para que el uso del programa sea mas fluido en el archivo Ejecutable.py se agregan las dos ultimas funciones las cuales colocan sobre el resto de ventanas la imagen a reetiquetar y al mismo tiempo se activa dicha ventana."
   ]
  },
  {
   "cell_type": "markdown",
   "metadata": {},
   "source": [
    "* Mostrando las imagenes y utilizando las teclas (w,a,s,d) para etiquetarlas\n",
    "* Se muestra la imagen y posteriormente la etiqueta que se le asignó mediante el teclado para que el usuario corrobore su selección\n",
    "* Incluye un bucle que se rompe hasta que se selecciona la opción aceptar (decision final)\n",
    "* Se renombran con el formato \"-new\" para evitar repeticiones con los archivos ya existentes"
   ]
  },
  {
   "cell_type": "code",
   "execution_count": null,
   "metadata": {},
   "outputs": [],
   "source": [
    "def seleccion(imagen): \n",
    "    img = cv2.imread(imagen)\n",
    "    cv2.imshow('Imagen',img) #\n",
    "    cv2.setWindowProperty('Imagen', cv2.WND_PROP_TOPMOST, 1)\n",
    "    window_id = win32gui.GetActiveWindow()#\n",
    "    set_active_window(window_id)#\n",
    "    #detecting which key is pressed \n",
    "    tecla=cv2.waitKey(0) # waits until a key is pressed\n",
    "    \n",
    "    # Pressing only keys predefined\n",
    "    while tecla != ord('a') and tecla != ord('d') and tecla != ord('w') and tecla != ord('s'):\n",
    "        win32ui.MessageBox(\"Recuerda que para etiquetar las fotos debes de presionar las teclas \\t W A S D\", \"Cuidado\", 0)\n",
    "        img = cv2.imread(imagen)\n",
    "        cv2.imshow('Imagen',img) #\n",
    "        cv2.setWindowProperty('Imagen', cv2.WND_PROP_TOPMOST, 1)\n",
    "        window_id = win32gui.GetActiveWindow()#\n",
    "        set_active_window(window_id)#\n",
    "        tecla=cv2.waitKey(0) \n",
    "        cv2.destroyAllWindows() \n",
    "\n",
    "    # Conditional statement to detect which key is pressed\n",
    "    if tecla == ord('a'):\n",
    "        new_label=\"_Izquierda-new_\"\n",
    "    elif tecla == ord('d'):\n",
    "        new_label=\"_Derecha-new_\" \n",
    "    elif tecla == ord('w'):\n",
    "        new_label=\"_Frontal-new_\"\n",
    "    elif tecla == ord('s'):\n",
    "        new_label=\"_Trasera-new_\"\n",
    "    \n",
    "    return new_label\n",
    "      "
   ]
  },
  {
   "cell_type": "markdown",
   "metadata": {},
   "source": [
    "+ Si se denominan dos imagenes como \"frontales\" por ejemplo, la primera conserva su nombre y la segunda cambia su no_vista \n",
    "+ Solo se aceptan dos imagenes del mismo tipo, (p ejem 2 izquierdas)\n"
   ]
  },
  {
   "cell_type": "code",
   "execution_count": null,
   "metadata": {},
   "outputs": [],
   "source": [
    "for i in range(len(principales)):\n",
    "    imagen = principales[i]\n",
    "\n",
    "    new_label=seleccion(imagen)\n",
    "    \n",
    "    #Now, if the user wants to change his/her selection, he/ she can select the option \"Cancel\"\n",
    "    continuar = win32ui.MessageBox(new_label, \"Seleccion\", 1) #?\n",
    "\n",
    "    while continuar == 2:\n",
    "        new_label=seleccion(imagen)\n",
    "        continuar = win32ui.MessageBox(new_label, \"Seleccion\", 1)\n",
    "\n",
    "    cv2.destroyAllWindows() # destroys the window showing image  \n",
    "      \n",
    "    # Elements of the path \n",
    "    tipo=get_subset( imagen, detect_char(imagen, '_')[0], detect_char(imagen, '_')[1]+1) #_Derecha_\n",
    "    sku =get_subset( imagen, detect_char(imagen, '_')[1]+1, detect_char(imagen, '_')[2]) #1700490094\n",
    "    no_vista=get_subset(imagen, detect_char(imagen, '_')[2], detect_char(imagen, '_')[2]+3) #_1.\n",
    "\n",
    "    item = [path for path in paths if sku in path] \n",
    "    vista=[item for item in item if tipo in item] \n",
    "\n",
    "    # Selecting all paths with sku in them and with determinated vista\n",
    "    item_vista=[vista for vista in vista if no_vista in vista] \n",
    "    \n",
    "    # if imagen2.replace(tipo, new_label) does not exist, rename imagen2 to imagen2.replace(tipo, new_label)\n",
    "    for j in range(len(item_vista)) :\n",
    "        imagen2 = item_vista[j]\n",
    "        \n",
    "        if not os.path.exists(imagen2.replace(tipo, new_label)):\n",
    "            os.rename(imagen2, imagen2.replace(tipo, new_label))\n",
    "            \n",
    "            \n",
    "        else:\n",
    "            if not os.path.exists(imagen2.replace(no_vista, \"_1.\")):\n",
    "                imagen3 = imagen2.replace(no_vista, \"_1.\")\n",
    "                imagen3 = imagen3.replace(tipo, new_label)\n",
    "                os.rename(imagen2, imagen3)\n",
    "                \n",
    "            else:\n",
    "                if not os.path.exists(imagen2.replace(no_vista, \"_2.\")):\n",
    "                    imagen3 = imagen2.replace(no_vista, \"_2.\")\n",
    "                    imagen3 = imagen3.replace(tipo, new_label)\n",
    "                    os.rename(imagen2, imagen3)\n",
    "                    "
   ]
  },
  {
   "cell_type": "markdown",
   "metadata": {},
   "source": [
    "Se revisa que todos los nombres se actualizaron, si no es así, es porque se asigaron mas formatos de los que son permitidos (por ejemplo se seleccionaron 3 imagenes como frontales, sin embargo solo se aceptan 2). Si es el caso, se mueve hacia una direccion que vivirá al mismo nivel que la carpeta padre."
   ]
  },
  {
   "cell_type": "code",
   "execution_count": null,
   "metadata": {},
   "outputs": [],
   "source": [
    "ec = \"S:\\TOM CARGAS MASIVAS\\ErroresCorregidos\"\n",
    "if not os.path.exists(ec):\n",
    "    os.mkdir(ec)\n",
    "\n",
    "files=os.listdir()\n",
    "for i in range(len(files)):\n",
    "    if '-' not in files[i]:\n",
    "        #base_name=carpeta[:-len(os.path.basename(carpeta))]\n",
    "        if not os.path.exists(ec+\"/Repeticiones\"):\n",
    "            os.mkdir(ec+\"/Repeticiones\")\n",
    "        os.rename(files[i], ec+\"/Repeticiones/\"+files[i])\n",
    "        \n",
    "        \n",
    "files= os.listdir()\n",
    "for i in range(len(files)):\n",
    "    os.rename(files[i],files[i].replace('-new', ''))\n",
    "\n",
    "# if there exists a folder called \"Repeticiones\" show a message\n",
    "if os.path.exists(base_name_carpeta+\"Repeticiones\"):\n",
    "    win32ui.MessageBox(\"Existen Archivos con mas de 2 vistas, revisar carpeta repeticiones\", \"Error\", 0)\n",
    "    "
   ]
  },
  {
   "cell_type": "markdown",
   "metadata": {},
   "source": [
    "Es importante guardar los cambios que se generen para poder retroalimentar el modelo, por esta razón se tambien se guardan las imagenes reetiquetadas en TomCargasMasivas (carpeta compartida a la que se tiene acceso)"
   ]
  },
  {
   "cell_type": "code",
   "execution_count": null,
   "metadata": {},
   "outputs": [],
   "source": [
    "files= os.listdir()\n",
    "files\n",
    "error_files\n",
    "import pandas as pd\n",
    "# create a table with files and error files as columns\n",
    "table = pd.DataFrame(columns=['Files', 'Error Files'])\n",
    "table['Files'] = files\n",
    "table['Error Files'] = error_files\n",
    "\n",
    "\n",
    "# if table has same value in both columns and in the same row, delete that row\n",
    "table = table.drop_duplicates(subset=['Files', 'Error Files'], keep='first')\n"
   ]
  },
  {
   "cell_type": "markdown",
   "metadata": {},
   "source": [
    "Creando reporte de cambios"
   ]
  },
  {
   "cell_type": "code",
   "execution_count": null,
   "metadata": {},
   "outputs": [],
   "source": [
    "day = datetime.datetime.now().strftime(\"%d-%m-%Y\")  \n",
    "hour = datetime.datetime.now().strftime(\"%H-%M-%S\")\n",
    "\n",
    "if not os.path.exists(ec+\"\\\\Transformaciones(\"+day+\"_\"+hour+\").csv\"):    \n",
    "    table.to_csv(ec+\"\\\\Transformaciones(\"+day+\"_\"+hour+\").csv\", index=False)\n"
   ]
  },
  {
   "cell_type": "code",
   "execution_count": null,
   "metadata": {},
   "outputs": [],
   "source": [
    "# get all paths in directory\n",
    "files = os.listdir()\n",
    "# get all paths of files    \n",
    "paths = [os.path.join(carpeta + '\\\\Errores', file) for file in files]\n",
    "\n",
    "\n",
    "# move all files to carpeta\n",
    "for i in range(len(paths)):\n",
    "    os.rename(paths[i], carpeta + \"\\\\\" + files[i])\n"
   ]
  },
  {
   "cell_type": "markdown",
   "metadata": {},
   "source": [
    "Si carpeta de Errores se encuentra vacia eliminarla "
   ]
  },
  {
   "cell_type": "code",
   "execution_count": null,
   "metadata": {},
   "outputs": [],
   "source": [
    "os.chdir(carpeta)\n",
    "\n",
    "# if Errores folder empty, delete it\n",
    "if os.listdir(carpeta + \"\\\\Errores\") == []:    \n",
    "    os.rmdir(carpeta + \"\\\\Errores\")\n",
    "else:\n",
    "    win32ui.MessageBox(\"Hubo un error, revisar carpeta\", \"Error\", 0)"
   ]
  },
  {
   "cell_type": "markdown",
   "metadata": {},
   "source": [
    "Finalmente se eliminan todas las varibales que fueron creadas, se libera memoria y evita complicaciones en posteriores usos "
   ]
  },
  {
   "cell_type": "code",
   "execution_count": null,
   "metadata": {},
   "outputs": [],
   "source": [
    "del  carpeta, files, paths, principales, imagen, new_label"
   ]
  }
 ],
 "metadata": {
  "kernelspec": {
   "display_name": "Python 3.9.12 ('base')",
   "language": "python",
   "name": "python3"
  },
  "language_info": {
   "codemirror_mode": {
    "name": "ipython",
    "version": 3
   },
   "file_extension": ".py",
   "mimetype": "text/x-python",
   "name": "python",
   "nbconvert_exporter": "python",
   "pygments_lexer": "ipython3",
   "version": "3.9.12"
  },
  "orig_nbformat": 4,
  "vscode": {
   "interpreter": {
    "hash": "54d8efc0accedf8a71318180958b2a2c3ace073b5a0267b0b56f49dfe74d51c0"
   }
  }
 },
 "nbformat": 4,
 "nbformat_minor": 2
}
